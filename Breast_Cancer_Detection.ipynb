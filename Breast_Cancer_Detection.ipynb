{
  "nbformat": 4,
  "nbformat_minor": 0,
  "metadata": {
    "colab": {
      "name": "Breast_Cancer_Detection.ipynb",
      "provenance": [],
      "collapsed_sections": [],
      "authorship_tag": "ABX9TyO27547yURinPXUXD9errr5",
      "include_colab_link": true
    },
    "kernelspec": {
      "name": "python3",
      "display_name": "Python 3"
    },
    "language_info": {
      "name": "python"
    }
  },
  "cells": [
    {
      "cell_type": "markdown",
      "metadata": {
        "id": "view-in-github",
        "colab_type": "text"
      },
      "source": [
        "<a href=\"https://colab.research.google.com/github/charumathikumar/ETG_Breast_Cancer_Detection/blob/main/Breast_Cancer_Detection.ipynb\" target=\"_parent\"><img src=\"https://colab.research.google.com/assets/colab-badge.svg\" alt=\"Open In Colab\"/></a>"
      ]
    },
    {
      "cell_type": "code",
      "metadata": {
        "id": "J6lSRgPy81xa"
      },
      "source": [
        "import pandas as pd\n",
        "import numpy as np\n",
        "\n",
        "from sklearn.datasets import load_breast_cancer\n",
        "from sklearn.preprocessing import StandardScaler\n",
        "\n",
        "from keras.models import Sequential\n",
        "from keras.layers import Dense"
      ],
      "execution_count": 89,
      "outputs": []
    },
    {
      "cell_type": "code",
      "metadata": {
        "id": "dx-DTuRI88VZ"
      },
      "source": [
        "data = load_breast_cancer()"
      ],
      "execution_count": 90,
      "outputs": []
    },
    {
      "cell_type": "code",
      "metadata": {
        "colab": {
          "base_uri": "https://localhost:8080/"
        },
        "id": "DVYGgbLa88gf",
        "outputId": "e8ebde72-d2a8-4ec3-d46e-66ce28f7386b"
      },
      "source": [
        "#Getting the keys in file\n",
        "data.keys()"
      ],
      "execution_count": 91,
      "outputs": [
        {
          "output_type": "execute_result",
          "data": {
            "text/plain": [
              "dict_keys(['data', 'target', 'target_names', 'DESCR', 'feature_names', 'filename'])"
            ]
          },
          "metadata": {},
          "execution_count": 91
        }
      ]
    },
    {
      "cell_type": "code",
      "metadata": {
        "colab": {
          "base_uri": "https://localhost:8080/"
        },
        "id": "Y_gRzMBT88m_",
        "outputId": "1cbebc87-5809-4b0a-edc7-216b1e947e38"
      },
      "source": [
        "#Displaying the items in keys\n",
        "print(data['DESCR'])"
      ],
      "execution_count": 92,
      "outputs": [
        {
          "output_type": "stream",
          "name": "stdout",
          "text": [
            ".. _breast_cancer_dataset:\n",
            "\n",
            "Breast cancer wisconsin (diagnostic) dataset\n",
            "--------------------------------------------\n",
            "\n",
            "**Data Set Characteristics:**\n",
            "\n",
            "    :Number of Instances: 569\n",
            "\n",
            "    :Number of Attributes: 30 numeric, predictive attributes and the class\n",
            "\n",
            "    :Attribute Information:\n",
            "        - radius (mean of distances from center to points on the perimeter)\n",
            "        - texture (standard deviation of gray-scale values)\n",
            "        - perimeter\n",
            "        - area\n",
            "        - smoothness (local variation in radius lengths)\n",
            "        - compactness (perimeter^2 / area - 1.0)\n",
            "        - concavity (severity of concave portions of the contour)\n",
            "        - concave points (number of concave portions of the contour)\n",
            "        - symmetry \n",
            "        - fractal dimension (\"coastline approximation\" - 1)\n",
            "\n",
            "        The mean, standard error, and \"worst\" or largest (mean of the three\n",
            "        largest values) of these features were computed for each image,\n",
            "        resulting in 30 features.  For instance, field 3 is Mean Radius, field\n",
            "        13 is Radius SE, field 23 is Worst Radius.\n",
            "\n",
            "        - class:\n",
            "                - WDBC-Malignant\n",
            "                - WDBC-Benign\n",
            "\n",
            "    :Summary Statistics:\n",
            "\n",
            "    ===================================== ====== ======\n",
            "                                           Min    Max\n",
            "    ===================================== ====== ======\n",
            "    radius (mean):                        6.981  28.11\n",
            "    texture (mean):                       9.71   39.28\n",
            "    perimeter (mean):                     43.79  188.5\n",
            "    area (mean):                          143.5  2501.0\n",
            "    smoothness (mean):                    0.053  0.163\n",
            "    compactness (mean):                   0.019  0.345\n",
            "    concavity (mean):                     0.0    0.427\n",
            "    concave points (mean):                0.0    0.201\n",
            "    symmetry (mean):                      0.106  0.304\n",
            "    fractal dimension (mean):             0.05   0.097\n",
            "    radius (standard error):              0.112  2.873\n",
            "    texture (standard error):             0.36   4.885\n",
            "    perimeter (standard error):           0.757  21.98\n",
            "    area (standard error):                6.802  542.2\n",
            "    smoothness (standard error):          0.002  0.031\n",
            "    compactness (standard error):         0.002  0.135\n",
            "    concavity (standard error):           0.0    0.396\n",
            "    concave points (standard error):      0.0    0.053\n",
            "    symmetry (standard error):            0.008  0.079\n",
            "    fractal dimension (standard error):   0.001  0.03\n",
            "    radius (worst):                       7.93   36.04\n",
            "    texture (worst):                      12.02  49.54\n",
            "    perimeter (worst):                    50.41  251.2\n",
            "    area (worst):                         185.2  4254.0\n",
            "    smoothness (worst):                   0.071  0.223\n",
            "    compactness (worst):                  0.027  1.058\n",
            "    concavity (worst):                    0.0    1.252\n",
            "    concave points (worst):               0.0    0.291\n",
            "    symmetry (worst):                     0.156  0.664\n",
            "    fractal dimension (worst):            0.055  0.208\n",
            "    ===================================== ====== ======\n",
            "\n",
            "    :Missing Attribute Values: None\n",
            "\n",
            "    :Class Distribution: 212 - Malignant, 357 - Benign\n",
            "\n",
            "    :Creator:  Dr. William H. Wolberg, W. Nick Street, Olvi L. Mangasarian\n",
            "\n",
            "    :Donor: Nick Street\n",
            "\n",
            "    :Date: November, 1995\n",
            "\n",
            "This is a copy of UCI ML Breast Cancer Wisconsin (Diagnostic) datasets.\n",
            "https://goo.gl/U2Uwz2\n",
            "\n",
            "Features are computed from a digitized image of a fine needle\n",
            "aspirate (FNA) of a breast mass.  They describe\n",
            "characteristics of the cell nuclei present in the image.\n",
            "\n",
            "Separating plane described above was obtained using\n",
            "Multisurface Method-Tree (MSM-T) [K. P. Bennett, \"Decision Tree\n",
            "Construction Via Linear Programming.\" Proceedings of the 4th\n",
            "Midwest Artificial Intelligence and Cognitive Science Society,\n",
            "pp. 97-101, 1992], a classification method which uses linear\n",
            "programming to construct a decision tree.  Relevant features\n",
            "were selected using an exhaustive search in the space of 1-4\n",
            "features and 1-3 separating planes.\n",
            "\n",
            "The actual linear program used to obtain the separating plane\n",
            "in the 3-dimensional space is that described in:\n",
            "[K. P. Bennett and O. L. Mangasarian: \"Robust Linear\n",
            "Programming Discrimination of Two Linearly Inseparable Sets\",\n",
            "Optimization Methods and Software 1, 1992, 23-34].\n",
            "\n",
            "This database is also available through the UW CS ftp server:\n",
            "\n",
            "ftp ftp.cs.wisc.edu\n",
            "cd math-prog/cpo-dataset/machine-learn/WDBC/\n",
            "\n",
            ".. topic:: References\n",
            "\n",
            "   - W.N. Street, W.H. Wolberg and O.L. Mangasarian. Nuclear feature extraction \n",
            "     for breast tumor diagnosis. IS&T/SPIE 1993 International Symposium on \n",
            "     Electronic Imaging: Science and Technology, volume 1905, pages 861-870,\n",
            "     San Jose, CA, 1993.\n",
            "   - O.L. Mangasarian, W.N. Street and W.H. Wolberg. Breast cancer diagnosis and \n",
            "     prognosis via linear programming. Operations Research, 43(4), pages 570-577, \n",
            "     July-August 1995.\n",
            "   - W.H. Wolberg, W.N. Street, and O.L. Mangasarian. Machine learning techniques\n",
            "     to diagnose breast cancer from fine-needle aspirates. Cancer Letters 77 (1994) \n",
            "     163-171.\n"
          ]
        }
      ]
    },
    {
      "cell_type": "code",
      "metadata": {
        "colab": {
          "base_uri": "https://localhost:8080/"
        },
        "id": "C_bucNel88s3",
        "outputId": "03a987b9-5256-4957-e55c-8fc20fc82d7c"
      },
      "source": [
        "data['data'].shape"
      ],
      "execution_count": 93,
      "outputs": [
        {
          "output_type": "execute_result",
          "data": {
            "text/plain": [
              "(569, 30)"
            ]
          },
          "metadata": {},
          "execution_count": 93
        }
      ]
    },
    {
      "cell_type": "code",
      "metadata": {
        "colab": {
          "base_uri": "https://localhost:8080/"
        },
        "id": "E5vKUEnZ88xw",
        "outputId": "942807d1-0aae-4d86-e3ca-b5a4c9cd388c"
      },
      "source": [
        "data['feature_names']"
      ],
      "execution_count": 94,
      "outputs": [
        {
          "output_type": "execute_result",
          "data": {
            "text/plain": [
              "array(['mean radius', 'mean texture', 'mean perimeter', 'mean area',\n",
              "       'mean smoothness', 'mean compactness', 'mean concavity',\n",
              "       'mean concave points', 'mean symmetry', 'mean fractal dimension',\n",
              "       'radius error', 'texture error', 'perimeter error', 'area error',\n",
              "       'smoothness error', 'compactness error', 'concavity error',\n",
              "       'concave points error', 'symmetry error',\n",
              "       'fractal dimension error', 'worst radius', 'worst texture',\n",
              "       'worst perimeter', 'worst area', 'worst smoothness',\n",
              "       'worst compactness', 'worst concavity', 'worst concave points',\n",
              "       'worst symmetry', 'worst fractal dimension'], dtype='<U23')"
            ]
          },
          "metadata": {},
          "execution_count": 94
        }
      ]
    },
    {
      "cell_type": "code",
      "metadata": {
        "colab": {
          "base_uri": "https://localhost:8080/"
        },
        "id": "UJRVT6vP883Q",
        "outputId": "6b1789ce-b01a-4970-e801-81994e8045fb"
      },
      "source": [
        "data['data'][0]"
      ],
      "execution_count": 95,
      "outputs": [
        {
          "output_type": "execute_result",
          "data": {
            "text/plain": [
              "array([1.799e+01, 1.038e+01, 1.228e+02, 1.001e+03, 1.184e-01, 2.776e-01,\n",
              "       3.001e-01, 1.471e-01, 2.419e-01, 7.871e-02, 1.095e+00, 9.053e-01,\n",
              "       8.589e+00, 1.534e+02, 6.399e-03, 4.904e-02, 5.373e-02, 1.587e-02,\n",
              "       3.003e-02, 6.193e-03, 2.538e+01, 1.733e+01, 1.846e+02, 2.019e+03,\n",
              "       1.622e-01, 6.656e-01, 7.119e-01, 2.654e-01, 4.601e-01, 1.189e-01])"
            ]
          },
          "metadata": {},
          "execution_count": 95
        }
      ]
    },
    {
      "cell_type": "code",
      "metadata": {
        "id": "9Bk1nWHiYGDJ"
      },
      "source": [
        "#Display the data with respective feature name of data 1"
      ],
      "execution_count": 96,
      "outputs": []
    },
    {
      "cell_type": "code",
      "metadata": {
        "colab": {
          "base_uri": "https://localhost:8080/"
        },
        "id": "kSSTPtR1889F",
        "outputId": "dc6d7ee0-0f7a-4f46-991a-29ab49b8fbd4"
      },
      "source": [
        "j = 0\n",
        "for i in data['feature_names']:\n",
        "  print(i,\":\",data['data'][0][j])\n",
        "  j+=1"
      ],
      "execution_count": 97,
      "outputs": [
        {
          "output_type": "stream",
          "name": "stdout",
          "text": [
            "mean radius : 17.99\n",
            "mean texture : 10.38\n",
            "mean perimeter : 122.8\n",
            "mean area : 1001.0\n",
            "mean smoothness : 0.1184\n",
            "mean compactness : 0.2776\n",
            "mean concavity : 0.3001\n",
            "mean concave points : 0.1471\n",
            "mean symmetry : 0.2419\n",
            "mean fractal dimension : 0.07871\n",
            "radius error : 1.095\n",
            "texture error : 0.9053\n",
            "perimeter error : 8.589\n",
            "area error : 153.4\n",
            "smoothness error : 0.006399\n",
            "compactness error : 0.04904\n",
            "concavity error : 0.05373\n",
            "concave points error : 0.01587\n",
            "symmetry error : 0.03003\n",
            "fractal dimension error : 0.006193\n",
            "worst radius : 25.38\n",
            "worst texture : 17.33\n",
            "worst perimeter : 184.6\n",
            "worst area : 2019.0\n",
            "worst smoothness : 0.1622\n",
            "worst compactness : 0.6656\n",
            "worst concavity : 0.7119\n",
            "worst concave points : 0.2654\n",
            "worst symmetry : 0.4601\n",
            "worst fractal dimension : 0.1189\n"
          ]
        }
      ]
    },
    {
      "cell_type": "code",
      "metadata": {
        "colab": {
          "base_uri": "https://localhost:8080/"
        },
        "id": "oF69AMw99mp4",
        "outputId": "bfd88fb4-2bd4-44f9-d65c-41afb53f925e"
      },
      "source": [
        "# displaying data in target_names\n",
        "data['target_names']"
      ],
      "execution_count": 98,
      "outputs": [
        {
          "output_type": "execute_result",
          "data": {
            "text/plain": [
              "array(['malignant', 'benign'], dtype='<U9')"
            ]
          },
          "metadata": {},
          "execution_count": 98
        }
      ]
    },
    {
      "cell_type": "code",
      "metadata": {
        "id": "2aZpgXa-9mmK"
      },
      "source": [
        "label = data['target']"
      ],
      "execution_count": 99,
      "outputs": []
    },
    {
      "cell_type": "code",
      "metadata": {
        "id": "IkgShjT09mi3"
      },
      "source": [
        "feature = data['data']"
      ],
      "execution_count": 100,
      "outputs": []
    },
    {
      "cell_type": "code",
      "metadata": {
        "colab": {
          "base_uri": "https://localhost:8080/"
        },
        "id": "WfctPpKW9msl",
        "outputId": "ebff070e-aef7-4039-c639-48960c04d736"
      },
      "source": [
        "label.shape"
      ],
      "execution_count": 101,
      "outputs": [
        {
          "output_type": "execute_result",
          "data": {
            "text/plain": [
              "(569,)"
            ]
          },
          "metadata": {},
          "execution_count": 101
        }
      ]
    },
    {
      "cell_type": "code",
      "metadata": {
        "id": "jnXj7wRQ9mve"
      },
      "source": [
        "# to rounding off the values in feature \n",
        "      #bcz it has values of data with more difference  \n",
        "scale = StandardScaler()\n",
        "feature = scale.fit_transform(feature)"
      ],
      "execution_count": 102,
      "outputs": []
    },
    {
      "cell_type": "code",
      "metadata": {
        "colab": {
          "base_uri": "https://localhost:8080/"
        },
        "id": "VjWNZoRP9myC",
        "outputId": "48122ea2-ef75-40c0-d264-a7a744ebf63c"
      },
      "source": [
        "j = 0\n",
        "for i in data['feature_names']:\n",
        "  print(i,\":\",feature[0][j])\n",
        "  j+=1\n",
        "# now all the values are in same range , there is no more difference in values"
      ],
      "execution_count": 103,
      "outputs": [
        {
          "output_type": "stream",
          "name": "stdout",
          "text": [
            "mean radius : 1.0970639814699807\n",
            "mean texture : -2.0733350146975935\n",
            "mean perimeter : 1.2699336881399383\n",
            "mean area : 0.9843749048031144\n",
            "mean smoothness : 1.568466329243428\n",
            "mean compactness : 3.2835146709868264\n",
            "mean concavity : 2.652873983743168\n",
            "mean concave points : 2.532475216403245\n",
            "mean symmetry : 2.2175150059646405\n",
            "mean fractal dimension : 2.255746885296269\n",
            "radius error : 2.4897339267376193\n",
            "texture error : -0.5652650590684639\n",
            "perimeter error : 2.833030865855184\n",
            "area error : 2.4875775569611043\n",
            "smoothness error : -0.21400164666895383\n",
            "compactness error : 1.3168615683959484\n",
            "concavity error : 0.72402615808036\n",
            "concave points error : 0.6608199414286064\n",
            "symmetry error : 1.1487566671861758\n",
            "fractal dimension error : 0.9070830809973359\n",
            "worst radius : 1.8866896251792757\n",
            "worst texture : -1.3592934737640827\n",
            "worst perimeter : 2.3036006236225606\n",
            "worst area : 2.0012374893299207\n",
            "worst smoothness : 1.3076862710715387\n",
            "worst compactness : 2.616665023512603\n",
            "worst concavity : 2.1095263465722556\n",
            "worst concave points : 2.296076127561788\n",
            "worst symmetry : 2.750622244124955\n",
            "worst fractal dimension : 1.9370146123781782\n"
          ]
        }
      ]
    },
    {
      "cell_type": "code",
      "metadata": {
        "colab": {
          "base_uri": "https://localhost:8080/"
        },
        "id": "pnPBkWsi9m1Y",
        "outputId": "3537c367-abe6-43ab-ff78-ffb2e609d9cb"
      },
      "source": [
        "print(feature[568])\n",
        "print(data['target_names'][label[568]],label[568])"
      ],
      "execution_count": 104,
      "outputs": [
        {
          "output_type": "stream",
          "name": "stdout",
          "text": [
            "[-1.80840125  1.22179204 -1.81438851 -1.34778924 -3.11208479 -1.15075248\n",
            " -1.11487284 -1.26181958 -0.8200699  -0.56103238 -0.07027874  0.3830925\n",
            " -0.15744905 -0.46615196  0.04934236 -1.16351619 -1.05750068 -1.91344745\n",
            "  0.75282996 -0.382754   -1.41089258  0.76418957 -1.43273495 -1.07581292\n",
            " -1.85901852 -1.2075525  -1.30583065 -1.74506282 -0.04813821 -0.75120669]\n",
            "benign 1\n"
          ]
        }
      ]
    },
    {
      "cell_type": "code",
      "metadata": {
        "id": "Xhb2mTCj9m32"
      },
      "source": [
        "# for shuffling data\n",
        "df_frt = pd.DataFrame(feature , columns = data['feature_names'])\n",
        "df_lbl = pd.DataFrame(label , columns = ['label'])\n",
        "df = pd.concat([df_frt, df_lbl], axis=1) #to concate 2 df\n",
        "df = df.sample(frac = 1)  #.sample method of your dataframe to sample all rows without replacement #to shuffle data\n",
        "\n",
        "feature = df.values[ : , : 30]\n",
        "label = df.values[ : ,30: ]"
      ],
      "execution_count": 105,
      "outputs": []
    },
    {
      "cell_type": "code",
      "metadata": {
        "colab": {
          "base_uri": "https://localhost:8080/",
          "height": 473
        },
        "id": "SaKoBpKe9m-I",
        "outputId": "fb479866-5067-40f0-8a09-299081d24e39"
      },
      "source": [
        "df"
      ],
      "execution_count": 106,
      "outputs": [
        {
          "output_type": "execute_result",
          "data": {
            "text/html": [
              "<div>\n",
              "<style scoped>\n",
              "    .dataframe tbody tr th:only-of-type {\n",
              "        vertical-align: middle;\n",
              "    }\n",
              "\n",
              "    .dataframe tbody tr th {\n",
              "        vertical-align: top;\n",
              "    }\n",
              "\n",
              "    .dataframe thead th {\n",
              "        text-align: right;\n",
              "    }\n",
              "</style>\n",
              "<table border=\"1\" class=\"dataframe\">\n",
              "  <thead>\n",
              "    <tr style=\"text-align: right;\">\n",
              "      <th></th>\n",
              "      <th>mean radius</th>\n",
              "      <th>mean texture</th>\n",
              "      <th>mean perimeter</th>\n",
              "      <th>mean area</th>\n",
              "      <th>mean smoothness</th>\n",
              "      <th>mean compactness</th>\n",
              "      <th>mean concavity</th>\n",
              "      <th>mean concave points</th>\n",
              "      <th>mean symmetry</th>\n",
              "      <th>mean fractal dimension</th>\n",
              "      <th>radius error</th>\n",
              "      <th>texture error</th>\n",
              "      <th>perimeter error</th>\n",
              "      <th>area error</th>\n",
              "      <th>smoothness error</th>\n",
              "      <th>compactness error</th>\n",
              "      <th>concavity error</th>\n",
              "      <th>concave points error</th>\n",
              "      <th>symmetry error</th>\n",
              "      <th>fractal dimension error</th>\n",
              "      <th>worst radius</th>\n",
              "      <th>worst texture</th>\n",
              "      <th>worst perimeter</th>\n",
              "      <th>worst area</th>\n",
              "      <th>worst smoothness</th>\n",
              "      <th>worst compactness</th>\n",
              "      <th>worst concavity</th>\n",
              "      <th>worst concave points</th>\n",
              "      <th>worst symmetry</th>\n",
              "      <th>worst fractal dimension</th>\n",
              "      <th>label</th>\n",
              "    </tr>\n",
              "  </thead>\n",
              "  <tbody>\n",
              "    <tr>\n",
              "      <th>98</th>\n",
              "      <td>-0.717787</td>\n",
              "      <td>-1.500877</td>\n",
              "      <td>-0.726143</td>\n",
              "      <td>-0.689095</td>\n",
              "      <td>-0.464730</td>\n",
              "      <td>-0.551317</td>\n",
              "      <td>-0.588066</td>\n",
              "      <td>-0.397721</td>\n",
              "      <td>-0.699589</td>\n",
              "      <td>0.428455</td>\n",
              "      <td>-0.626819</td>\n",
              "      <td>-1.229678</td>\n",
              "      <td>-0.688617</td>\n",
              "      <td>-0.540958</td>\n",
              "      <td>-0.296005</td>\n",
              "      <td>-0.680631</td>\n",
              "      <td>-0.496152</td>\n",
              "      <td>-0.796796</td>\n",
              "      <td>-0.488225</td>\n",
              "      <td>-0.470508</td>\n",
              "      <td>-0.664567</td>\n",
              "      <td>-1.386977</td>\n",
              "      <td>-0.723832</td>\n",
              "      <td>-0.647058</td>\n",
              "      <td>0.470421</td>\n",
              "      <td>-0.439986</td>\n",
              "      <td>-0.383747</td>\n",
              "      <td>-0.458568</td>\n",
              "      <td>-0.208298</td>\n",
              "      <td>0.200283</td>\n",
              "      <td>1</td>\n",
              "    </tr>\n",
              "    <tr>\n",
              "      <th>57</th>\n",
              "      <td>0.165497</td>\n",
              "      <td>0.535307</td>\n",
              "      <td>0.147501</td>\n",
              "      <td>0.005719</td>\n",
              "      <td>1.233989</td>\n",
              "      <td>0.609461</td>\n",
              "      <td>0.508485</td>\n",
              "      <td>0.833426</td>\n",
              "      <td>0.786345</td>\n",
              "      <td>0.677954</td>\n",
              "      <td>0.062901</td>\n",
              "      <td>-0.121295</td>\n",
              "      <td>-0.064878</td>\n",
              "      <td>-0.005436</td>\n",
              "      <td>-1.127372</td>\n",
              "      <td>0.171685</td>\n",
              "      <td>-0.204702</td>\n",
              "      <td>0.149859</td>\n",
              "      <td>-0.287234</td>\n",
              "      <td>0.118429</td>\n",
              "      <td>0.331500</td>\n",
              "      <td>0.817928</td>\n",
              "      <td>0.251356</td>\n",
              "      <td>0.184435</td>\n",
              "      <td>0.194255</td>\n",
              "      <td>1.111558</td>\n",
              "      <td>0.415041</td>\n",
              "      <td>1.047495</td>\n",
              "      <td>1.289766</td>\n",
              "      <td>1.410564</td>\n",
              "      <td>0</td>\n",
              "    </tr>\n",
              "    <tr>\n",
              "      <th>427</th>\n",
              "      <td>-0.944998</td>\n",
              "      <td>0.626063</td>\n",
              "      <td>-0.954749</td>\n",
              "      <td>-0.838979</td>\n",
              "      <td>-0.594251</td>\n",
              "      <td>-0.889033</td>\n",
              "      <td>-0.661136</td>\n",
              "      <td>-0.899672</td>\n",
              "      <td>0.746185</td>\n",
              "      <td>-0.429195</td>\n",
              "      <td>-0.351797</td>\n",
              "      <td>0.733261</td>\n",
              "      <td>-0.309918</td>\n",
              "      <td>-0.443050</td>\n",
              "      <td>-0.166000</td>\n",
              "      <td>-0.223454</td>\n",
              "      <td>-0.065774</td>\n",
              "      <td>-0.218356</td>\n",
              "      <td>-0.254543</td>\n",
              "      <td>-0.417931</td>\n",
              "      <td>-0.726692</td>\n",
              "      <td>1.036139</td>\n",
              "      <td>-0.702088</td>\n",
              "      <td>-0.687490</td>\n",
              "      <td>-0.090679</td>\n",
              "      <td>-0.538588</td>\n",
              "      <td>-0.381348</td>\n",
              "      <td>-0.605352</td>\n",
              "      <td>0.103933</td>\n",
              "      <td>-0.405966</td>\n",
              "      <td>1</td>\n",
              "    </tr>\n",
              "    <tr>\n",
              "      <th>77</th>\n",
              "      <td>1.114105</td>\n",
              "      <td>-0.730617</td>\n",
              "      <td>1.162839</td>\n",
              "      <td>0.998595</td>\n",
              "      <td>0.721598</td>\n",
              "      <td>2.089571</td>\n",
              "      <td>0.999384</td>\n",
              "      <td>1.523931</td>\n",
              "      <td>1.242713</td>\n",
              "      <td>0.557457</td>\n",
              "      <td>2.076840</td>\n",
              "      <td>-1.208994</td>\n",
              "      <td>1.705351</td>\n",
              "      <td>2.078346</td>\n",
              "      <td>0.299686</td>\n",
              "      <td>1.839429</td>\n",
              "      <td>0.486953</td>\n",
              "      <td>1.444293</td>\n",
              "      <td>0.649913</td>\n",
              "      <td>1.232757</td>\n",
              "      <td>1.267513</td>\n",
              "      <td>-1.102000</td>\n",
              "      <td>1.275989</td>\n",
              "      <td>1.282251</td>\n",
              "      <td>0.676449</td>\n",
              "      <td>1.966530</td>\n",
              "      <td>0.510512</td>\n",
              "      <td>1.455568</td>\n",
              "      <td>1.375509</td>\n",
              "      <td>1.488146</td>\n",
              "      <td>0</td>\n",
              "    </tr>\n",
              "    <tr>\n",
              "      <th>227</th>\n",
              "      <td>0.247862</td>\n",
              "      <td>-0.879550</td>\n",
              "      <td>0.225762</td>\n",
              "      <td>0.084216</td>\n",
              "      <td>-0.900263</td>\n",
              "      <td>0.099666</td>\n",
              "      <td>-0.298172</td>\n",
              "      <td>-0.286807</td>\n",
              "      <td>0.253307</td>\n",
              "      <td>-0.528427</td>\n",
              "      <td>-0.625736</td>\n",
              "      <td>-1.306787</td>\n",
              "      <td>-0.292097</td>\n",
              "      <td>-0.450091</td>\n",
              "      <td>-0.974032</td>\n",
              "      <td>0.368416</td>\n",
              "      <td>0.150741</td>\n",
              "      <td>-0.039926</td>\n",
              "      <td>-0.803029</td>\n",
              "      <td>-0.223510</td>\n",
              "      <td>0.029159</td>\n",
              "      <td>-1.036863</td>\n",
              "      <td>0.206678</td>\n",
              "      <td>-0.127243</td>\n",
              "      <td>-0.822738</td>\n",
              "      <td>0.689798</td>\n",
              "      <td>0.326287</td>\n",
              "      <td>0.354685</td>\n",
              "      <td>0.086138</td>\n",
              "      <td>-0.018055</td>\n",
              "      <td>1</td>\n",
              "    </tr>\n",
              "    <tr>\n",
              "      <th>...</th>\n",
              "      <td>...</td>\n",
              "      <td>...</td>\n",
              "      <td>...</td>\n",
              "      <td>...</td>\n",
              "      <td>...</td>\n",
              "      <td>...</td>\n",
              "      <td>...</td>\n",
              "      <td>...</td>\n",
              "      <td>...</td>\n",
              "      <td>...</td>\n",
              "      <td>...</td>\n",
              "      <td>...</td>\n",
              "      <td>...</td>\n",
              "      <td>...</td>\n",
              "      <td>...</td>\n",
              "      <td>...</td>\n",
              "      <td>...</td>\n",
              "      <td>...</td>\n",
              "      <td>...</td>\n",
              "      <td>...</td>\n",
              "      <td>...</td>\n",
              "      <td>...</td>\n",
              "      <td>...</td>\n",
              "      <td>...</td>\n",
              "      <td>...</td>\n",
              "      <td>...</td>\n",
              "      <td>...</td>\n",
              "      <td>...</td>\n",
              "      <td>...</td>\n",
              "      <td>...</td>\n",
              "      <td>...</td>\n",
              "    </tr>\n",
              "    <tr>\n",
              "      <th>222</th>\n",
              "      <td>-1.121087</td>\n",
              "      <td>-0.409482</td>\n",
              "      <td>-1.105917</td>\n",
              "      <td>-0.972083</td>\n",
              "      <td>0.693131</td>\n",
              "      <td>-0.366161</td>\n",
              "      <td>-0.892901</td>\n",
              "      <td>-0.767865</td>\n",
              "      <td>0.359185</td>\n",
              "      <td>0.890594</td>\n",
              "      <td>-0.571959</td>\n",
              "      <td>0.000266</td>\n",
              "      <td>-0.606442</td>\n",
              "      <td>-0.556359</td>\n",
              "      <td>0.286019</td>\n",
              "      <td>-0.641508</td>\n",
              "      <td>-0.774539</td>\n",
              "      <td>-0.676761</td>\n",
              "      <td>0.705609</td>\n",
              "      <td>-0.012824</td>\n",
              "      <td>-1.055953</td>\n",
              "      <td>-0.462024</td>\n",
              "      <td>-1.052072</td>\n",
              "      <td>-0.887716</td>\n",
              "      <td>0.360831</td>\n",
              "      <td>-0.701440</td>\n",
              "      <td>-0.990537</td>\n",
              "      <td>-0.896180</td>\n",
              "      <td>0.249533</td>\n",
              "      <td>0.223003</td>\n",
              "      <td>1</td>\n",
              "    </tr>\n",
              "    <tr>\n",
              "      <th>395</th>\n",
              "      <td>-0.019112</td>\n",
              "      <td>-0.490929</td>\n",
              "      <td>-0.091402</td>\n",
              "      <td>-0.130229</td>\n",
              "      <td>-1.132262</td>\n",
              "      <td>-0.961427</td>\n",
              "      <td>-0.778274</td>\n",
              "      <td>-0.423257</td>\n",
              "      <td>-0.622919</td>\n",
              "      <td>-0.731145</td>\n",
              "      <td>-0.919526</td>\n",
              "      <td>0.849379</td>\n",
              "      <td>-0.806434</td>\n",
              "      <td>-0.608723</td>\n",
              "      <td>-0.556682</td>\n",
              "      <td>-0.712488</td>\n",
              "      <td>-0.682163</td>\n",
              "      <td>-0.428418</td>\n",
              "      <td>-0.405891</td>\n",
              "      <td>-0.889233</td>\n",
              "      <td>-0.279394</td>\n",
              "      <td>-0.054915</td>\n",
              "      <td>-0.322915</td>\n",
              "      <td>-0.344697</td>\n",
              "      <td>-1.129589</td>\n",
              "      <td>-0.834393</td>\n",
              "      <td>-0.899960</td>\n",
              "      <td>-0.540487</td>\n",
              "      <td>-0.611126</td>\n",
              "      <td>-0.989495</td>\n",
              "      <td>1</td>\n",
              "    </tr>\n",
              "    <tr>\n",
              "      <th>186</th>\n",
              "      <td>1.187949</td>\n",
              "      <td>-0.165140</td>\n",
              "      <td>1.096935</td>\n",
              "      <td>1.098139</td>\n",
              "      <td>-0.745834</td>\n",
              "      <td>-0.372605</td>\n",
              "      <td>-0.089257</td>\n",
              "      <td>0.237843</td>\n",
              "      <td>-0.695938</td>\n",
              "      <td>-1.211713</td>\n",
              "      <td>-0.532258</td>\n",
              "      <td>-1.344707</td>\n",
              "      <td>-0.519316</td>\n",
              "      <td>-0.251195</td>\n",
              "      <td>-1.391716</td>\n",
              "      <td>-0.910840</td>\n",
              "      <td>-0.589324</td>\n",
              "      <td>-0.823561</td>\n",
              "      <td>-1.192902</td>\n",
              "      <td>-1.024268</td>\n",
              "      <td>1.043864</td>\n",
              "      <td>0.111186</td>\n",
              "      <td>0.951324</td>\n",
              "      <td>0.930669</td>\n",
              "      <td>-0.393146</td>\n",
              "      <td>-0.062119</td>\n",
              "      <td>0.391533</td>\n",
              "      <td>0.647036</td>\n",
              "      <td>0.493818</td>\n",
              "      <td>-0.807177</td>\n",
              "      <td>0</td>\n",
              "    </tr>\n",
              "    <tr>\n",
              "      <th>66</th>\n",
              "      <td>-1.324157</td>\n",
              "      <td>0.400337</td>\n",
              "      <td>-1.312280</td>\n",
              "      <td>-1.096371</td>\n",
              "      <td>0.572150</td>\n",
              "      <td>-0.504318</td>\n",
              "      <td>-0.842179</td>\n",
              "      <td>-0.873878</td>\n",
              "      <td>-0.345447</td>\n",
              "      <td>0.877836</td>\n",
              "      <td>-0.613826</td>\n",
              "      <td>1.440855</td>\n",
              "      <td>-0.597036</td>\n",
              "      <td>-0.575060</td>\n",
              "      <td>1.159721</td>\n",
              "      <td>-0.443100</td>\n",
              "      <td>-0.489189</td>\n",
              "      <td>-0.399545</td>\n",
              "      <td>0.272148</td>\n",
              "      <td>0.167223</td>\n",
              "      <td>-1.213336</td>\n",
              "      <td>0.957974</td>\n",
              "      <td>-1.198320</td>\n",
              "      <td>-0.966647</td>\n",
              "      <td>0.983301</td>\n",
              "      <td>-0.558944</td>\n",
              "      <td>-0.854288</td>\n",
              "      <td>-0.752745</td>\n",
              "      <td>-0.036814</td>\n",
              "      <td>0.452425</td>\n",
              "      <td>1</td>\n",
              "    </tr>\n",
              "    <tr>\n",
              "      <th>562</th>\n",
              "      <td>0.310345</td>\n",
              "      <td>2.636649</td>\n",
              "      <td>0.470844</td>\n",
              "      <td>0.176365</td>\n",
              "      <td>0.600616</td>\n",
              "      <td>1.977758</td>\n",
              "      <td>2.086645</td>\n",
              "      <td>1.170295</td>\n",
              "      <td>1.155090</td>\n",
              "      <td>1.236490</td>\n",
              "      <td>-0.523235</td>\n",
              "      <td>-0.021506</td>\n",
              "      <td>-0.249525</td>\n",
              "      <td>-0.389146</td>\n",
              "      <td>-0.805359</td>\n",
              "      <td>1.283328</td>\n",
              "      <td>1.382525</td>\n",
              "      <td>0.694884</td>\n",
              "      <td>0.100217</td>\n",
              "      <td>0.887792</td>\n",
              "      <td>0.259021</td>\n",
              "      <td>2.786709</td>\n",
              "      <td>0.638572</td>\n",
              "      <td>0.060502</td>\n",
              "      <td>0.409050</td>\n",
              "      <td>3.418837</td>\n",
              "      <td>4.307272</td>\n",
              "      <td>1.842324</td>\n",
              "      <td>1.922319</td>\n",
              "      <td>3.156163</td>\n",
              "      <td>0</td>\n",
              "    </tr>\n",
              "  </tbody>\n",
              "</table>\n",
              "<p>569 rows × 31 columns</p>\n",
              "</div>"
            ],
            "text/plain": [
              "     mean radius  mean texture  ...  worst fractal dimension  label\n",
              "98     -0.717787     -1.500877  ...                 0.200283      1\n",
              "57      0.165497      0.535307  ...                 1.410564      0\n",
              "427    -0.944998      0.626063  ...                -0.405966      1\n",
              "77      1.114105     -0.730617  ...                 1.488146      0\n",
              "227     0.247862     -0.879550  ...                -0.018055      1\n",
              "..           ...           ...  ...                      ...    ...\n",
              "222    -1.121087     -0.409482  ...                 0.223003      1\n",
              "395    -0.019112     -0.490929  ...                -0.989495      1\n",
              "186     1.187949     -0.165140  ...                -0.807177      0\n",
              "66     -1.324157      0.400337  ...                 0.452425      1\n",
              "562     0.310345      2.636649  ...                 3.156163      0\n",
              "\n",
              "[569 rows x 31 columns]"
            ]
          },
          "metadata": {},
          "execution_count": 106
        }
      ]
    },
    {
      "cell_type": "code",
      "metadata": {
        "id": "9vV1xBxeA8ES"
      },
      "source": [
        "#spliting the total 569 data into small chunks for training , validation and testing"
      ],
      "execution_count": 107,
      "outputs": []
    },
    {
      "cell_type": "code",
      "metadata": {
        "id": "PBOu8TnM9nBn"
      },
      "source": [
        "#500 Training\n",
        "X_train = feature[:500]\n",
        "y_train = label[:500]\n",
        "\n",
        "#35 Validation\n",
        "X_val = feature[500:535]\n",
        "y_val = label[500:535]\n",
        "\n",
        "#34 Testing\n",
        "X_test = feature[535:]\n",
        "y_test = label[535:]"
      ],
      "execution_count": 108,
      "outputs": []
    },
    {
      "cell_type": "code",
      "metadata": {
        "id": "eE512AKkYNao"
      },
      "source": [
        "#training data"
      ],
      "execution_count": 109,
      "outputs": []
    },
    {
      "cell_type": "code",
      "metadata": {
        "id": "nuAbDZ1K9nD-"
      },
      "source": [
        "#creating neural network for training\n",
        "model = Sequential()  #create a empty stack or neural netwrk to add layers in sequence \n",
        "#adding the layers\n",
        "model.add(Dense(32, activation = 'relu', input_dim = 30)) #1st hidden layer   #activation func is to decide wether to activate neutron or not\n",
        "model.add(Dense(64, activation = 'relu'))\n",
        "model.add(Dense(128, activation = 'relu'))\n",
        "model.add(Dense(64, activation = 'relu'))\n",
        "model.add(Dense(32, activation = 'relu'))\n",
        "model.add(Dense(1, activation = 'sigmoid')) #output layer  #sigmoid is used bcz output is eitheir 0 r 1 to decide the type of cancer\n",
        "#compiling model\n",
        "model.compile( loss = 'binary_crossentropy' , optimizer = 'adam' , metrics = ['accuracy']) \n",
        "#binary_crossentropy is used bcz op is 0 r 1 \n",
        "#optimizer will optimize the weight , for best accuracy we are using adam algo"
      ],
      "execution_count": 110,
      "outputs": []
    },
    {
      "cell_type": "code",
      "metadata": {
        "colab": {
          "base_uri": "https://localhost:8080/"
        },
        "id": "OFnz3syH9nJN",
        "outputId": "72f17d37-9538-47e4-f0f6-40d75926a750"
      },
      "source": [
        "\n",
        "model.fit( X_train , y_train, epochs = 10, batch_size = 5, validation_data = (X_val, y_val)) #batchsize tells how many parts the whole data are divided"
      ],
      "execution_count": 115,
      "outputs": [
        {
          "output_type": "stream",
          "name": "stdout",
          "text": [
            "Epoch 1/10\n",
            "100/100 [==============================] - 1s 4ms/step - loss: 0.0113 - accuracy: 0.9980 - val_loss: 7.8224e-04 - val_accuracy: 1.0000\n",
            "Epoch 2/10\n",
            "100/100 [==============================] - 0s 2ms/step - loss: 0.0078 - accuracy: 0.9980 - val_loss: 4.9987e-04 - val_accuracy: 1.0000\n",
            "Epoch 3/10\n",
            "100/100 [==============================] - 0s 2ms/step - loss: 0.0057 - accuracy: 0.9980 - val_loss: 1.8584e-04 - val_accuracy: 1.0000\n",
            "Epoch 4/10\n",
            "100/100 [==============================] - 0s 2ms/step - loss: 0.0051 - accuracy: 0.9980 - val_loss: 1.9627e-04 - val_accuracy: 1.0000\n",
            "Epoch 5/10\n",
            "100/100 [==============================] - 0s 2ms/step - loss: 0.0038 - accuracy: 0.9980 - val_loss: 4.6199e-05 - val_accuracy: 1.0000\n",
            "Epoch 6/10\n",
            "100/100 [==============================] - 0s 2ms/step - loss: 0.0041 - accuracy: 0.9980 - val_loss: 6.3488e-05 - val_accuracy: 1.0000\n",
            "Epoch 7/10\n",
            "100/100 [==============================] - 0s 2ms/step - loss: 0.0022 - accuracy: 1.0000 - val_loss: 2.3042e-05 - val_accuracy: 1.0000\n",
            "Epoch 8/10\n",
            "100/100 [==============================] - 0s 2ms/step - loss: 0.0012 - accuracy: 1.0000 - val_loss: 9.1094e-06 - val_accuracy: 1.0000\n",
            "Epoch 9/10\n",
            "100/100 [==============================] - 0s 2ms/step - loss: 5.0947e-04 - accuracy: 1.0000 - val_loss: 5.8600e-06 - val_accuracy: 1.0000\n",
            "Epoch 10/10\n",
            "100/100 [==============================] - 0s 2ms/step - loss: 3.0649e-04 - accuracy: 1.0000 - val_loss: 3.5650e-06 - val_accuracy: 1.0000\n"
          ]
        },
        {
          "output_type": "execute_result",
          "data": {
            "text/plain": [
              "<keras.callbacks.History at 0x7fcd6a511450>"
            ]
          },
          "metadata": {},
          "execution_count": 115
        }
      ]
    },
    {
      "cell_type": "code",
      "metadata": {
        "colab": {
          "base_uri": "https://localhost:8080/"
        },
        "id": "zCet7eU99nRH",
        "outputId": "52d54c10-17b7-4f3e-a5bf-88165bff17a6"
      },
      "source": [
        "model.evaluate(X_test , y_test)"
      ],
      "execution_count": 116,
      "outputs": [
        {
          "output_type": "stream",
          "name": "stdout",
          "text": [
            "2/2 [==============================] - 0s 4ms/step - loss: 0.3178 - accuracy: 0.9706\n"
          ]
        },
        {
          "output_type": "execute_result",
          "data": {
            "text/plain": [
              "[0.317764550447464, 0.970588207244873]"
            ]
          },
          "metadata": {},
          "execution_count": 116
        }
      ]
    },
    {
      "cell_type": "code",
      "metadata": {
        "colab": {
          "base_uri": "https://localhost:8080/"
        },
        "id": "HfDrQX6z9nWj",
        "outputId": "53d7ecf8-da59-4227-e122-aa2e72986ac5"
      },
      "source": [
        "model.evaluate(X_val , y_val)"
      ],
      "execution_count": 117,
      "outputs": [
        {
          "output_type": "stream",
          "name": "stdout",
          "text": [
            "2/2 [==============================] - 0s 5ms/step - loss: 3.5650e-06 - accuracy: 1.0000\n"
          ]
        },
        {
          "output_type": "execute_result",
          "data": {
            "text/plain": [
              "[3.56503005605191e-06, 1.0]"
            ]
          },
          "metadata": {},
          "execution_count": 117
        }
      ]
    },
    {
      "cell_type": "code",
      "metadata": {
        "colab": {
          "base_uri": "https://localhost:8080/"
        },
        "id": "fnWUl4Ck9nZX",
        "outputId": "3d9427d9-e3a2-411a-edb9-ed69a956fb69"
      },
      "source": [
        "for i in range(30):\n",
        "  sample = X_test[i]\n",
        "  sample = np.reshape(sample, (1,30))\n",
        "\n",
        "  if (model.predict(sample)[0][0] > 0.5):  #predicted value\n",
        "    print(\"-Benign\")\n",
        "  else:\n",
        "    print(\"-Malignant\")\n",
        "\n",
        "  if (y_test[i] == 1): #actual value\n",
        "    print(\"*Banign\")\n",
        "  else:\n",
        "    print(\"*Melignant\")\n",
        "  print(\"-----------\")"
      ],
      "execution_count": 114,
      "outputs": [
        {
          "output_type": "stream",
          "name": "stdout",
          "text": [
            "-Benign\n",
            "*Banign\n",
            "-----------\n",
            "-Malignant\n",
            "*Melignant\n",
            "-----------\n",
            "-Benign\n",
            "*Banign\n",
            "-----------\n",
            "-Malignant\n",
            "*Melignant\n",
            "-----------\n",
            "-Benign\n",
            "*Melignant\n",
            "-----------\n",
            "-Malignant\n",
            "*Melignant\n",
            "-----------\n",
            "-Benign\n",
            "*Banign\n",
            "-----------\n",
            "-Malignant\n",
            "*Melignant\n",
            "-----------\n",
            "-Benign\n",
            "*Banign\n",
            "-----------\n",
            "-Benign\n",
            "*Banign\n",
            "-----------\n",
            "-Benign\n",
            "*Banign\n",
            "-----------\n",
            "-Malignant\n",
            "*Melignant\n",
            "-----------\n",
            "-Benign\n",
            "*Melignant\n",
            "-----------\n",
            "-Malignant\n",
            "*Melignant\n",
            "-----------\n",
            "-Benign\n",
            "*Banign\n",
            "-----------\n",
            "-Benign\n",
            "*Banign\n",
            "-----------\n",
            "-Benign\n",
            "*Banign\n",
            "-----------\n",
            "-Malignant\n",
            "*Melignant\n",
            "-----------\n",
            "-Benign\n",
            "*Banign\n",
            "-----------\n",
            "-Benign\n",
            "*Banign\n",
            "-----------\n",
            "-Benign\n",
            "*Banign\n",
            "-----------\n",
            "-Benign\n",
            "*Banign\n",
            "-----------\n",
            "-Malignant\n",
            "*Melignant\n",
            "-----------\n",
            "-Benign\n",
            "*Banign\n",
            "-----------\n",
            "-Malignant\n",
            "*Melignant\n",
            "-----------\n",
            "-Malignant\n",
            "*Melignant\n",
            "-----------\n",
            "-Malignant\n",
            "*Melignant\n",
            "-----------\n",
            "-Malignant\n",
            "*Melignant\n",
            "-----------\n",
            "-Malignant\n",
            "*Melignant\n",
            "-----------\n",
            "-Benign\n",
            "*Banign\n",
            "-----------\n"
          ]
        }
      ]
    },
    {
      "cell_type": "code",
      "metadata": {
        "id": "-U5IYfKUVSh_"
      },
      "source": [
        ""
      ],
      "execution_count": 114,
      "outputs": []
    }
  ]
}